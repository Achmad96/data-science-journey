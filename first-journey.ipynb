{
 "cells": [
  {
   "cell_type": "code",
   "execution_count": 1,
   "id": "09a16df1-ef33-4f6f-baf4-584b3e8ec326",
   "metadata": {},
   "outputs": [
    {
     "name": "stdout",
     "output_type": "stream",
     "text": [
      "Hello world\n"
     ]
    }
   ],
   "source": [
    "print(\"Hello world\")"
   ]
  },
  {
   "cell_type": "code",
   "execution_count": 2,
   "id": "b4ff9ddc-ccd3-4871-94c6-f37fc7e2d97e",
   "metadata": {},
   "outputs": [
    {
     "name": "stdout",
     "output_type": "stream",
     "text": [
      "158\n"
     ]
    }
   ],
   "source": [
    "x = 1960 \n",
    "y = 901 \n",
    "print(x % y) "
   ]
  },
  {
   "cell_type": "code",
   "execution_count": 3,
   "id": "bf8e3add-9724-4f37-82ba-339db55f8922",
   "metadata": {
    "scrolled": true
   },
   "outputs": [
    {
     "name": "stdout",
     "output_type": "stream",
     "text": [
      "[0, 2, 4, 6, 8, 10, 12, 14, 16, 18, 20, 22, 24, 26, 28, 30, 32, 34, 36, 38, 40, 42, 44, 46, 48, 50, 52, 54, 56, 58, 60, 62, 64, 66, 68, 70, 72, 74, 76, 78, 80, 82, 84, 86, 88, 90, 92, 94, 96, 98, 100, 102, 104, 106, 108, 110, 112, 114, 116, 118, 120, 122, 124, 126, 128, 130, 132, 134, 136, 138, 140, 142, 144, 146, 148, 150, 152, 154, 156, 158, 160, 162, 164, 166, 168, 170, 172, 174, 176, 178, 180, 182, 184, 186, 188, 190, 192, 194, 196, 198, 200, 202, 204, 206, 208, 210, 212, 214, 216, 218, 220, 222, 224, 226, 228, 230, 232, 234, 236, 238, 240, 242, 244, 246, 248, 250, 252, 254, 256, 258, 260, 262, 264, 266, 268, 270, 272, 274, 276, 278, 280, 282, 284, 286, 288, 290, 292, 294, 296, 298, 300, 302, 304, 306, 308, 310, 312, 314, 316, 318, 320, 322, 324, 326, 328, 330, 332, 334, 336, 338, 340, 342, 344, 346, 348, 350, 352, 354, 356, 358, 360, 362, 364, 366, 368, 370, 372, 374, 376, 378, 380, 382, 384, 386, 388, 390, 392, 394, 396, 398, 400, 402, 404, 406, 408, 410, 412, 414, 416, 418, 420, 422, 424, 426, 428, 430, 432, 434, 436, 438, 440, 442, 444, 446, 448, 450, 452, 454, 456, 458, 460, 462, 464, 466, 468, 470, 472, 474, 476, 478, 480, 482, 484, 486, 488, 490, 492, 494, 496, 498, 500]\n"
     ]
    }
   ],
   "source": [
    "evenNumber = [i for i in range(0,501) if i % 2 == 0];\n",
    "print(evenNumber)"
   ]
  },
  {
   "cell_type": "code",
   "execution_count": 4,
   "id": "9fc8f03b-85dd-4727-ba13-df4582517401",
   "metadata": {},
   "outputs": [],
   "source": [
    "arr = [1, 7, 2, 89, 3]\n",
    "highestNumber = arr[0];\n",
    "for i in range(len(arr)):\n",
    "    if (i < len(arr) - 1) and (highestNumber < arr[i + 1]):\n",
    "        highestNumber = arr[i+1];"
   ]
  },
  {
   "cell_type": "code",
   "execution_count": 5,
   "id": "4a26563f-4aa2-4d4b-9909-5826b0a4a02b",
   "metadata": {},
   "outputs": [
    {
     "name": "stdout",
     "output_type": "stream",
     "text": [
      "50.0\n"
     ]
    }
   ],
   "source": [
    "\"\"\"\n",
    "TODO:\n",
    "Sebuah variabel array diberikan dengan ketentuan berikut.\n",
    "- Variabel array bernama \"var_array\" dengan nilai dari 0 hingga 100.\n",
    "- Hitung nilai rata-rata dari elemen array tersebut.\n",
    "- Simpan hasil perhitungan dalam variabel bernama \"result\".\n",
    "\n",
    "Tips:\n",
    "- Rumus menghitung rata-rata adalah jumlah seluruh elemen dibagi banyaknya elemen.\n",
    "- Gunakan percabangan dan perulangan untuk mempermudah, \n",
    "  Anda tidak diperbolehkan memberikan nilai secara langsung.\n",
    "\"\"\"\n",
    "# Jangan ubah kode ini\n",
    "var_array = [i for i in range(101)]\n",
    "\n",
    "# TODO: Silakan buat kode Anda di bawah ini.\n",
    "result = sum(var_array) / len(var_array)\n",
    "print(result)"
   ]
  },
  {
   "cell_type": "code",
   "execution_count": 6,
   "id": "1cfbe637-6bdb-419e-bfa4-ded2f9e4b14b",
   "metadata": {},
   "outputs": [
    {
     "name": "stdout",
     "output_type": "stream",
     "text": [
      "[[1 2 3]\n",
      " [4 5 6]\n",
      " [7 8 9]]\n"
     ]
    }
   ],
   "source": [
    "import numpy\n",
    "\n",
    "matriks = numpy.array([[1, 2, 3], [4, 5, 6], [7, 8 ,9]])\n",
    "print(matriks)"
   ]
  },
  {
   "cell_type": "code",
   "execution_count": 7,
   "id": "a7ad7242-d811-47c2-be5b-ef5a650eec7f",
   "metadata": {},
   "outputs": [
    {
     "name": "stdout",
     "output_type": "stream",
     "text": [
      "Ini adalah metode dari kelas Mobil\n",
      "Ini adalah metode dari kelas Mobil\n"
     ]
    }
   ],
   "source": [
    "# OOP PYTHON\n",
    "class Mobil:\n",
    "    def __init__(self, merek):\n",
    "        self.merek = merek\n",
    "    \n",
    "    @staticmethod\n",
    "    def intro_mobil():\n",
    "        print(\"Ini adalah metode dari kelas Mobil\")\n",
    "        \n",
    "Mobil.intro_mobil()\n",
    "mobil_1 = Mobil(\"DicodingCar\")\n",
    "mobil_1.intro_mobil()"
   ]
  },
  {
   "cell_type": "code",
   "execution_count": 8,
   "id": "f9711e99-2c75-4af8-9b42-0b7d889a853f",
   "metadata": {},
   "outputs": [],
   "source": [
    "\"\"\"\n",
    "TODO:\n",
    "1. Buatlah class bernama Animal dengan ketentuan:\n",
    "    - Memiliki properti:\n",
    "      - name: string\n",
    "      - age: int\n",
    "      - species: string\n",
    "    - Memiliki constructor untuk menginisialisasi properti:\n",
    "      - name\n",
    "      - age\n",
    "      - species\n",
    "2. Buatlah class bernama Cat dengan ketentuan:\n",
    "    - Merupakan turunan dari class Animal\n",
    "    - Memiliki method:\n",
    "      - bernama \"deskripsi\" yang mengembalikan nilai string berikut ini.\n",
    "        \"{self.name} adalah kucing berjenis {self.species} yang sudah berumur {self.age} tahun\"\n",
    "      - bernama \"suara\" yang akan mengembalikan nilai string \"meow!\"\n",
    " 3. Buatlah instance dari kelas Cat bernama \"myCat\" dengan ketentuan:\n",
    "    - Atribut name bernilai: \"Neko\"\n",
    "    - Atribut age bernilai: 3\n",
    "    - Atribut species bernilai: \"Persian\".\n",
    "\"\"\"\n",
    "\n",
    "#TODO: Silakan buat kode Anda di bawah ini.\n",
    "\n",
    "class Animal:\n",
    "    def __init__(self, name, age, species):\n",
    "        self.name = name;\n",
    "        self.age = age;\n",
    "        self.species = species;\n",
    "        \n",
    "class Cat(Animal):\n",
    "    def deskripsi(self):\n",
    "        return f\"{self.name} adalah kucing berjenis {self.species} yang sudah berumur {self.age} tahun\"\n",
    "    def suara(self):\n",
    "        return \"meow!\"\n",
    "\n",
    "myCat = Cat(\"Neko\", 3, \"Persian\")"
   ]
  }
 ],
 "metadata": {
  "kernelspec": {
   "display_name": "Python 3 (ipykernel)",
   "language": "python",
   "name": "python3"
  },
  "language_info": {
   "codemirror_mode": {
    "name": "ipython",
    "version": 3
   },
   "file_extension": ".py",
   "mimetype": "text/x-python",
   "name": "python",
   "nbconvert_exporter": "python",
   "pygments_lexer": "ipython3",
   "version": "3.12.3"
  }
 },
 "nbformat": 4,
 "nbformat_minor": 5
}
